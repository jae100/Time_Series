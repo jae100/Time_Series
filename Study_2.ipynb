{
 "cells": [
  {
   "cell_type": "code",
   "execution_count": 3,
   "metadata": {},
   "outputs": [],
   "source": [
    "import pandas as pd\n",
    "import numpy as np\n",
    "import matplotlib.pyplot as plt\n",
    "from tensorflow import keras\n",
    "import tensorflow as tf"
   ]
  },
  {
   "attachments": {},
   "cell_type": "markdown",
   "metadata": {},
   "source": [
    "### 시퀀스를 예측하는 머신러닝 모델 만들기"
   ]
  },
  {
   "attachments": {},
   "cell_type": "markdown",
   "metadata": {},
   "source": [
    "#### 윈도우 데이터 셋 만들기"
   ]
  },
  {
   "cell_type": "code",
   "execution_count": 14,
   "metadata": {},
   "outputs": [],
   "source": [
    "def trend(time, slope=0):\n",
    "    return slope * time"
   ]
  },
  {
   "cell_type": "code",
   "execution_count": 15,
   "metadata": {},
   "outputs": [],
   "source": [
    "def seasonal_pattern(season_time):\n",
    "    return np.where(season_time < 0.4,\n",
    "    np.cos(season_time * 2 * np.pi),\n",
    "    1 / np.exp(3 * season_time))"
   ]
  },
  {
   "cell_type": "code",
   "execution_count": 16,
   "metadata": {},
   "outputs": [],
   "source": [
    "def seasonality(time, period, amplitude=1, phase=0):\n",
    "    season_time = ((time + phase) % period) / period\n",
    "    return amplitude * seasonal_pattern(season_time)"
   ]
  },
  {
   "cell_type": "code",
   "execution_count": 17,
   "metadata": {},
   "outputs": [],
   "source": [
    "def noise(time, noise_level=1, seed = None):\n",
    "    rnd = np.random.RandomState(seed)\n",
    "    return rnd.randn(len(time)) * noise_level"
   ]
  },
  {
   "cell_type": "code",
   "execution_count": 18,
   "metadata": {},
   "outputs": [],
   "source": [
    "time = np.arange(4 * 365 + 1, dtype=\"float32\")\n",
    "baseline = 10\n",
    "series = trend(time, .05)\n",
    "amplitude = 15\n",
    "slope = 0.09\n",
    "noise_level = 6"
   ]
  },
  {
   "cell_type": "code",
   "execution_count": 20,
   "metadata": {},
   "outputs": [],
   "source": [
    "def windowed_dataset(series, window_size, batch_size, shuffle_buffer):\n",
    "    dataset =  tf.data.Dataset.from_tensor_slices(series)\n",
    "    dataset = dataset.window(window_size + 1, shift=1, drop_remainder=True)\n",
    "    # 반환 값이 dataset\n",
    "    dataset = dataset.flat_map(lambda window: window.batch(window_size + 1))\n",
    "    # [0 1 2 3 4] 형식으로 바로 받기 위해서 flat_map함수를 사용한다.\n",
    "    dataset = dataset.shuffle(shuffle_buffer).map(lambda window: (window[:-1], window[-1]))\n",
    "    dataset = dataset.batch(batch_size).prefetch(1)\n",
    "    # prefetch 훈련속도에 영향을 준다. 하나의 데이터셋이 작업을 하는 동안 미리 다른 데이터셋을 준비\n",
    "    return dataset"
   ]
  },
  {
   "cell_type": "code",
   "execution_count": 19,
   "metadata": {},
   "outputs": [],
   "source": [
    "series = baseline + trend(time, slope) \\\n",
    "                  + seasonality(time, period=365, amplitude=amplitude)"
   ]
  },
  {
   "cell_type": "code",
   "execution_count": 21,
   "metadata": {},
   "outputs": [],
   "source": [
    "split_time = 1000\n",
    "time_train = time[:split_time]\n",
    "x_train = series[:split_time]\n",
    "time_valid = time[split_time:]\n",
    "x_valid = series[split_time:]\n",
    "window_size = 20\n",
    "batch_size = 32\n",
    "shuffle_buffer_size = 1000\n",
    "dataset = windowed_dataset(x_train, window_size, batch_size, shuffle_buffer_size)"
   ]
  },
  {
   "cell_type": "code",
   "execution_count": 22,
   "metadata": {},
   "outputs": [
    {
     "name": "stdout",
     "output_type": "stream",
     "text": [
      "tf.Tensor(\n",
      "[[55.530388 55.391083 55.24977  55.106514 54.961388 54.814457 54.6658\n",
      "  54.515476 54.363564 54.210133 54.055256 53.899006 53.741455 53.58268\n",
      "  53.42275  53.261738 53.099724 52.936775 52.772976 52.608395]], shape=(1, 20), dtype=float32)\n",
      "tf.Tensor([52.443104], shape=(1,), dtype=float32)\n"
     ]
    }
   ],
   "source": [
    "# 데이터셋을 윈도우데이터셋으로 바꿔 주고 for문을 통해서 feature과 label로 나누어 준다.\n",
    "dataset = windowed_dataset(series, window_size, 1, shuffle_buffer_size)\n",
    "for feature, label in dataset.take(1):\n",
    "    print(feature)\n",
    "    print(label)"
   ]
  },
  {
   "attachments": {},
   "cell_type": "markdown",
   "metadata": {},
   "source": [
    "#### DNN"
   ]
  },
  {
   "cell_type": "code",
   "execution_count": 23,
   "metadata": {},
   "outputs": [],
   "source": [
    "dataset = windowed_dataset(x_train, window_size, batch_size, shuffle_buffer_size)\n",
    "\n",
    "model = tf.keras.models.Sequential([\n",
    "    tf.keras.layers.Dense(10, input_shape=[window_size],\n",
    "                        activation=\"relu\"),\n",
    "    tf.keras.layers.Dense(10, activation=\"relu\"),\n",
    "    tf.keras.layers.Dense(1)\n",
    "])"
   ]
  },
  {
   "attachments": {},
   "cell_type": "markdown",
   "metadata": {},
   "source": [
    "##### SGD를 사용하는 이유는 전체 학습데이터에서 하나씩 랜덤으로 뽑아 학습을 진행하기 때문에 모든 데이터를 사용하지 않아 속도가 빠르다는 장점이 있습니다. 하지만 지그재그로 핑퐁하면서 불안정한 학습과정을 보입니다. 단점으로는 지역 최소점과 안장점에 빠질 수 있습니다."
   ]
  },
  {
   "cell_type": "code",
   "execution_count": 24,
   "metadata": {},
   "outputs": [],
   "source": [
    "sgd = tf.keras.optimizers.SGD(learning_rate=1e-6, momentum=0.9)\n",
    "model.compile(loss=\"mse\", optimizer=sgd)"
   ]
  },
  {
   "cell_type": "code",
   "execution_count": 25,
   "metadata": {},
   "outputs": [
    {
     "name": "stdout",
     "output_type": "stream",
     "text": [
      "Epoch 1/100\n",
      "31/31 [==============================] - 4s 89ms/step - loss: 28.4238\n",
      "Epoch 2/100\n",
      "31/31 [==============================] - 0s 2ms/step - loss: 20.7115\n",
      "Epoch 3/100\n",
      "31/31 [==============================] - 0s 2ms/step - loss: 18.7199\n",
      "Epoch 4/100\n",
      "31/31 [==============================] - 0s 2ms/step - loss: 17.7870\n",
      "Epoch 5/100\n",
      "31/31 [==============================] - 0s 2ms/step - loss: 17.3353\n",
      "Epoch 6/100\n",
      "31/31 [==============================] - 0s 3ms/step - loss: 16.1136\n",
      "Epoch 7/100\n",
      "31/31 [==============================] - 0s 2ms/step - loss: 15.5023\n",
      "Epoch 8/100\n",
      "31/31 [==============================] - 0s 2ms/step - loss: 15.0602\n",
      "Epoch 9/100\n",
      "31/31 [==============================] - 0s 2ms/step - loss: 14.4923\n",
      "Epoch 10/100\n",
      "31/31 [==============================] - 0s 2ms/step - loss: 14.5317\n",
      "Epoch 11/100\n",
      "31/31 [==============================] - 0s 2ms/step - loss: 13.1581\n",
      "Epoch 12/100\n",
      "31/31 [==============================] - 0s 2ms/step - loss: 12.7790\n",
      "Epoch 13/100\n",
      "31/31 [==============================] - 0s 2ms/step - loss: 10.2369\n",
      "Epoch 14/100\n",
      "31/31 [==============================] - 0s 2ms/step - loss: 8.3246\n",
      "Epoch 15/100\n",
      "31/31 [==============================] - 0s 2ms/step - loss: 7.9115\n",
      "Epoch 16/100\n",
      "31/31 [==============================] - 0s 2ms/step - loss: 7.8084\n",
      "Epoch 17/100\n",
      "31/31 [==============================] - 0s 2ms/step - loss: 7.4931\n",
      "Epoch 18/100\n",
      "31/31 [==============================] - 0s 4ms/step - loss: 7.2544\n",
      "Epoch 19/100\n",
      "31/31 [==============================] - 0s 3ms/step - loss: 6.9477\n",
      "Epoch 20/100\n",
      "31/31 [==============================] - 0s 2ms/step - loss: 6.6600\n",
      "Epoch 21/100\n",
      "31/31 [==============================] - 0s 2ms/step - loss: 6.5406\n",
      "Epoch 22/100\n",
      "31/31 [==============================] - 0s 2ms/step - loss: 6.3069\n",
      "Epoch 23/100\n",
      "31/31 [==============================] - 0s 2ms/step - loss: 6.1199\n",
      "Epoch 24/100\n",
      "31/31 [==============================] - 0s 2ms/step - loss: 5.9353\n",
      "Epoch 25/100\n",
      "31/31 [==============================] - 0s 2ms/step - loss: 5.6907\n",
      "Epoch 26/100\n",
      "31/31 [==============================] - 0s 2ms/step - loss: 5.5066\n",
      "Epoch 27/100\n",
      "31/31 [==============================] - 0s 2ms/step - loss: 5.3688\n",
      "Epoch 28/100\n",
      "31/31 [==============================] - 0s 2ms/step - loss: 5.4616\n",
      "Epoch 29/100\n",
      "31/31 [==============================] - 0s 2ms/step - loss: 5.1253\n",
      "Epoch 30/100\n",
      "31/31 [==============================] - 0s 2ms/step - loss: 5.0177\n",
      "Epoch 31/100\n",
      "31/31 [==============================] - 0s 2ms/step - loss: 5.0009\n",
      "Epoch 32/100\n",
      "31/31 [==============================] - 0s 2ms/step - loss: 4.7313\n",
      "Epoch 33/100\n",
      "31/31 [==============================] - 0s 2ms/step - loss: 4.6857\n",
      "Epoch 34/100\n",
      "31/31 [==============================] - 0s 4ms/step - loss: 4.5233\n",
      "Epoch 35/100\n",
      "31/31 [==============================] - 0s 2ms/step - loss: 4.6940\n",
      "Epoch 36/100\n",
      "31/31 [==============================] - 0s 3ms/step - loss: 4.3330\n",
      "Epoch 37/100\n",
      "31/31 [==============================] - 0s 3ms/step - loss: 4.1866\n",
      "Epoch 38/100\n",
      "31/31 [==============================] - 0s 4ms/step - loss: 4.2654\n",
      "Epoch 39/100\n",
      "31/31 [==============================] - 0s 3ms/step - loss: 4.0533\n",
      "Epoch 40/100\n",
      "31/31 [==============================] - 0s 4ms/step - loss: 3.9530\n",
      "Epoch 41/100\n",
      "31/31 [==============================] - 0s 2ms/step - loss: 3.8136\n",
      "Epoch 42/100\n",
      "31/31 [==============================] - 0s 2ms/step - loss: 3.7816\n",
      "Epoch 43/100\n",
      "31/31 [==============================] - 0s 4ms/step - loss: 3.9134\n",
      "Epoch 44/100\n",
      "31/31 [==============================] - 0s 2ms/step - loss: 3.6343\n",
      "Epoch 45/100\n",
      "31/31 [==============================] - 0s 2ms/step - loss: 3.5659\n",
      "Epoch 46/100\n",
      "31/31 [==============================] - 0s 2ms/step - loss: 3.5365\n",
      "Epoch 47/100\n",
      "31/31 [==============================] - 0s 2ms/step - loss: 3.5066\n",
      "Epoch 48/100\n",
      "31/31 [==============================] - 0s 2ms/step - loss: 3.5922\n",
      "Epoch 49/100\n",
      "31/31 [==============================] - 0s 2ms/step - loss: 3.3567\n",
      "Epoch 50/100\n",
      "31/31 [==============================] - 0s 2ms/step - loss: 3.3243\n",
      "Epoch 51/100\n",
      "31/31 [==============================] - 0s 2ms/step - loss: 3.2563\n",
      "Epoch 52/100\n",
      "31/31 [==============================] - 0s 2ms/step - loss: 3.2733\n",
      "Epoch 53/100\n",
      "31/31 [==============================] - 0s 3ms/step - loss: 3.1658\n",
      "Epoch 54/100\n",
      "31/31 [==============================] - 0s 2ms/step - loss: 3.1305\n",
      "Epoch 55/100\n",
      "31/31 [==============================] - 0s 3ms/step - loss: 3.0934\n",
      "Epoch 56/100\n",
      "31/31 [==============================] - 0s 2ms/step - loss: 3.0723\n",
      "Epoch 57/100\n",
      "31/31 [==============================] - 0s 2ms/step - loss: 3.0141\n",
      "Epoch 58/100\n",
      "31/31 [==============================] - 0s 2ms/step - loss: 3.0846\n",
      "Epoch 59/100\n",
      "31/31 [==============================] - 0s 2ms/step - loss: 3.0552\n",
      "Epoch 60/100\n",
      "31/31 [==============================] - 0s 2ms/step - loss: 2.9281\n",
      "Epoch 61/100\n",
      "31/31 [==============================] - 0s 2ms/step - loss: 2.9642\n",
      "Epoch 62/100\n",
      "31/31 [==============================] - 0s 2ms/step - loss: 2.8746\n",
      "Epoch 63/100\n",
      "31/31 [==============================] - 0s 2ms/step - loss: 2.8930\n",
      "Epoch 64/100\n",
      "31/31 [==============================] - 0s 3ms/step - loss: 2.8920\n",
      "Epoch 65/100\n",
      "31/31 [==============================] - 0s 4ms/step - loss: 2.9967\n",
      "Epoch 66/100\n",
      "31/31 [==============================] - 0s 3ms/step - loss: 2.7913\n",
      "Epoch 67/100\n",
      "31/31 [==============================] - 0s 2ms/step - loss: 2.8091\n",
      "Epoch 68/100\n",
      "31/31 [==============================] - 0s 2ms/step - loss: 2.7817\n",
      "Epoch 69/100\n",
      "31/31 [==============================] - 0s 2ms/step - loss: 2.8507\n",
      "Epoch 70/100\n",
      "31/31 [==============================] - 0s 2ms/step - loss: 2.7911\n",
      "Epoch 71/100\n",
      "31/31 [==============================] - 0s 4ms/step - loss: 2.8204\n",
      "Epoch 72/100\n",
      "31/31 [==============================] - 0s 4ms/step - loss: 2.7059\n",
      "Epoch 73/100\n",
      "31/31 [==============================] - 0s 2ms/step - loss: 2.7463\n",
      "Epoch 74/100\n",
      "31/31 [==============================] - 0s 4ms/step - loss: 2.6584\n",
      "Epoch 75/100\n",
      "31/31 [==============================] - 0s 2ms/step - loss: 2.6596\n",
      "Epoch 76/100\n",
      "31/31 [==============================] - 0s 2ms/step - loss: 2.6331\n",
      "Epoch 77/100\n",
      "31/31 [==============================] - 0s 2ms/step - loss: 2.7511\n",
      "Epoch 78/100\n",
      "31/31 [==============================] - 0s 2ms/step - loss: 2.6362\n",
      "Epoch 79/100\n",
      "31/31 [==============================] - 0s 2ms/step - loss: 2.6509\n",
      "Epoch 80/100\n",
      "31/31 [==============================] - 0s 2ms/step - loss: 2.5699\n",
      "Epoch 81/100\n",
      "31/31 [==============================] - 0s 2ms/step - loss: 2.6320\n",
      "Epoch 82/100\n",
      "31/31 [==============================] - 0s 2ms/step - loss: 2.5920\n",
      "Epoch 83/100\n",
      "31/31 [==============================] - 0s 2ms/step - loss: 2.5486\n",
      "Epoch 84/100\n",
      "31/31 [==============================] - 0s 2ms/step - loss: 2.5690\n",
      "Epoch 85/100\n",
      "31/31 [==============================] - 0s 2ms/step - loss: 2.6341\n",
      "Epoch 86/100\n",
      "31/31 [==============================] - 0s 2ms/step - loss: 2.5394\n",
      "Epoch 87/100\n",
      "31/31 [==============================] - 0s 2ms/step - loss: 2.4942\n",
      "Epoch 88/100\n",
      "31/31 [==============================] - 0s 3ms/step - loss: 2.5181\n",
      "Epoch 89/100\n",
      "31/31 [==============================] - 0s 4ms/step - loss: 2.5101\n",
      "Epoch 90/100\n",
      "31/31 [==============================] - 0s 3ms/step - loss: 2.6569\n",
      "Epoch 91/100\n",
      "31/31 [==============================] - 1s 3ms/step - loss: 2.5236\n",
      "Epoch 92/100\n",
      "31/31 [==============================] - 0s 5ms/step - loss: 2.4808\n",
      "Epoch 93/100\n",
      "31/31 [==============================] - 1s 7ms/step - loss: 2.5670\n",
      "Epoch 94/100\n",
      "31/31 [==============================] - 1s 6ms/step - loss: 2.5937\n",
      "Epoch 95/100\n",
      "31/31 [==============================] - 0s 2ms/step - loss: 2.6234\n",
      "Epoch 96/100\n",
      "31/31 [==============================] - 0s 2ms/step - loss: 2.4847\n",
      "Epoch 97/100\n",
      "31/31 [==============================] - 0s 2ms/step - loss: 2.4998\n",
      "Epoch 98/100\n",
      "31/31 [==============================] - 0s 3ms/step - loss: 2.5981\n",
      "Epoch 99/100\n",
      "31/31 [==============================] - 0s 3ms/step - loss: 2.4931\n",
      "Epoch 100/100\n",
      "31/31 [==============================] - 0s 2ms/step - loss: 2.4192\n"
     ]
    },
    {
     "data": {
      "text/plain": [
       "<keras.callbacks.History at 0x1c9f3b116a0>"
      ]
     },
     "execution_count": 25,
     "metadata": {},
     "output_type": "execute_result"
    }
   ],
   "source": [
    "model.fit(dataset,epochs=100,verbose=1)"
   ]
  },
  {
   "attachments": {},
   "cell_type": "markdown",
   "metadata": {},
   "source": [
    "### DNN 결과 평가하기"
   ]
  },
  {
   "cell_type": "code",
   "execution_count": 26,
   "metadata": {},
   "outputs": [
    {
     "name": "stdout",
     "output_type": "stream",
     "text": [
      "[101.63048  101.70713  101.78389  101.86077  101.937744 102.01483\n",
      " 102.09202  102.16932  102.24672  102.32423  102.401825 102.47954\n",
      " 102.55734  102.635254 102.71326  102.79136  102.86956  102.94786\n",
      " 103.02625  103.104744]\n"
     ]
    }
   ],
   "source": [
    "print(series[1000:1020])"
   ]
  },
  {
   "cell_type": "code",
   "execution_count": 27,
   "metadata": {},
   "outputs": [
    {
     "name": "stdout",
     "output_type": "stream",
     "text": [
      "103.18333\n"
     ]
    }
   ],
   "source": [
    "print(series[1020])"
   ]
  },
  {
   "cell_type": "code",
   "execution_count": 28,
   "metadata": {},
   "outputs": [
    {
     "name": "stdout",
     "output_type": "stream",
     "text": [
      "1/1 [==============================] - 0s 198ms/step\n",
      "[[103.262]]\n"
     ]
    }
   ],
   "source": [
    "print(model.predict(series[1000:1020][np.newaxis]))"
   ]
  },
  {
   "cell_type": "code",
   "execution_count": null,
   "metadata": {},
   "outputs": [],
   "source": []
  }
 ],
 "metadata": {
  "kernelspec": {
   "display_name": "Python 3",
   "language": "python",
   "name": "python3"
  },
  "language_info": {
   "codemirror_mode": {
    "name": "ipython",
    "version": 3
   },
   "file_extension": ".py",
   "mimetype": "text/x-python",
   "name": "python",
   "nbconvert_exporter": "python",
   "pygments_lexer": "ipython3",
   "version": "3.9.4"
  },
  "orig_nbformat": 4,
  "vscode": {
   "interpreter": {
    "hash": "37789724b42d7ac8088bf5d5039d158497746afaa2ceeb3d4bc256999e41f00b"
   }
  }
 },
 "nbformat": 4,
 "nbformat_minor": 2
}
