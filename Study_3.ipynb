{
 "cells": [
  {
   "cell_type": "code",
   "execution_count": 2,
   "metadata": {},
   "outputs": [],
   "source": [
    "import pandas as pd\n",
    "import numpy as np\n",
    "import matplotlib.pyplot as plt\n",
    "from tensorflow import keras\n",
    "import tensorflow as tf"
   ]
  },
  {
   "cell_type": "code",
   "execution_count": 3,
   "metadata": {},
   "outputs": [],
   "source": [
    "def plot_series(time, series, format=\"-\", start=0, end=None):\n",
    "    plt.plot(time[start:end], series[start:end], format)\n",
    "    plt.xlabel(\"Time\")\n",
    "    plt.ylabel(\"Value\")\n",
    "    plt.grid(True)"
   ]
  },
  {
   "cell_type": "code",
   "execution_count": 4,
   "metadata": {},
   "outputs": [],
   "source": [
    "def trend(time, slope=0):\n",
    "    return slope * time"
   ]
  },
  {
   "cell_type": "code",
   "execution_count": 5,
   "metadata": {},
   "outputs": [],
   "source": [
    "def seasonal_pattern(season_time):\n",
    "    return np.where(season_time < 0.4,\n",
    "    np.cos(season_time * 2 * np.pi),\n",
    "    1 / np.exp(3 * season_time))"
   ]
  },
  {
   "cell_type": "code",
   "execution_count": 6,
   "metadata": {},
   "outputs": [],
   "source": [
    "def seasonality(time, period, amplitude=1, phase=0):\n",
    "    season_time = ((time + phase) % period) / period\n",
    "    return amplitude * seasonal_pattern(season_time)"
   ]
  },
  {
   "cell_type": "code",
   "execution_count": 7,
   "metadata": {},
   "outputs": [],
   "source": [
    "def noise(time, noise_level=1, seed = None):\n",
    "    rnd = np.random.RandomState(seed)\n",
    "    return rnd.randn(len(time)) * noise_level"
   ]
  },
  {
   "cell_type": "code",
   "execution_count": 8,
   "metadata": {},
   "outputs": [],
   "source": [
    "time = np.arange(4 * 365 + 1, dtype=\"float32\")\n",
    "baseline = 10\n",
    "series = trend(time, .05)\n",
    "amplitude = 15\n",
    "slope = 0.09\n",
    "noise_level = 6"
   ]
  },
  {
   "cell_type": "code",
   "execution_count": 9,
   "metadata": {},
   "outputs": [],
   "source": [
    "def windowed_dataset(series, window_size, batch_size, shuffle_buffer):\n",
    "    series = tf.expand_dims(series,axis=-1)\n",
    "    dataset =  tf.data.Dataset.from_tensor_slices(series)\n",
    "    dataset = dataset.window(window_size + 1, shift=1, drop_remainder=True)\n",
    "    # 반환 값이 dataset\n",
    "    dataset = dataset.flat_map(lambda window: window.batch(window_size + 1))\n",
    "    # [0 1 2 3 4] 형식으로 바로 받기 위해서 flat_map함수를 사용한다.\n",
    "    dataset = dataset.shuffle(shuffle_buffer).map(lambda window: (window[:-1], window[-1]))\n",
    "    dataset = dataset.batch(batch_size).prefetch(1)\n",
    "    # prefetch 훈련속도에 영향을 준다. 하나의 데이터셋이 작업을 하는 동안 미리 다른 데이터셋을 준비\n",
    "    return dataset"
   ]
  },
  {
   "cell_type": "code",
   "execution_count": 10,
   "metadata": {},
   "outputs": [],
   "source": [
    "series = baseline + trend(time, slope) \\\n",
    "                  + seasonality(time, period=365, amplitude=amplitude)"
   ]
  },
  {
   "cell_type": "code",
   "execution_count": 11,
   "metadata": {},
   "outputs": [
    {
     "name": "stdout",
     "output_type": "stream",
     "text": [
      "WARNING:tensorflow:From c:\\Users\\jbpia\\AppData\\Local\\Programs\\Python\\Python39\\lib\\site-packages\\tensorflow\\python\\autograph\\pyct\\static_analysis\\liveness.py:83: Analyzer.lamba_check (from tensorflow.python.autograph.pyct.static_analysis.liveness) is deprecated and will be removed after 2023-09-23.\n",
      "Instructions for updating:\n",
      "Lambda fuctions will be no more assumed to be used in the statement where they are used, or at least in the same block. https://github.com/tensorflow/tensorflow/issues/56089\n"
     ]
    }
   ],
   "source": [
    "split_time = 1000\n",
    "time_train = time[:split_time]\n",
    "x_train = series[:split_time]\n",
    "time_valid = time[split_time:]\n",
    "x_valid = series[split_time:]\n",
    "window_size = 20\n",
    "batch_size = 32\n",
    "shuffle_buffer_size = 1000\n",
    "dataset = windowed_dataset(x_train, window_size, batch_size, shuffle_buffer_size)"
   ]
  },
  {
   "cell_type": "code",
   "execution_count": 18,
   "metadata": {},
   "outputs": [
    {
     "name": "stderr",
     "output_type": "stream",
     "text": [
      "WARNING:absl:`lr` is deprecated, please use `learning_rate` instead, or use the legacy optimizer, e.g.,tf.keras.optimizers.legacy.SGD.\n"
     ]
    },
    {
     "name": "stdout",
     "output_type": "stream",
     "text": [
      "Epoch 1/100\n",
      "31/31 [==============================] - 2s 6ms/step - loss: nan\n",
      "Epoch 2/100\n",
      "31/31 [==============================] - 0s 6ms/step - loss: nan\n",
      "Epoch 3/100\n",
      "31/31 [==============================] - 0s 5ms/step - loss: nan\n",
      "Epoch 4/100\n",
      "31/31 [==============================] - 0s 4ms/step - loss: nan\n",
      "Epoch 5/100\n",
      "31/31 [==============================] - 0s 4ms/step - loss: nan\n",
      "Epoch 6/100\n",
      "31/31 [==============================] - 0s 5ms/step - loss: nan\n",
      "Epoch 7/100\n",
      "31/31 [==============================] - 0s 4ms/step - loss: nan\n",
      "Epoch 8/100\n",
      "31/31 [==============================] - 0s 6ms/step - loss: nan\n",
      "Epoch 9/100\n",
      "31/31 [==============================] - 0s 5ms/step - loss: nan\n",
      "Epoch 10/100\n",
      "31/31 [==============================] - 0s 4ms/step - loss: nan\n",
      "Epoch 11/100\n",
      "31/31 [==============================] - 0s 4ms/step - loss: nan\n",
      "Epoch 12/100\n",
      "31/31 [==============================] - 0s 4ms/step - loss: nan\n",
      "Epoch 13/100\n",
      "31/31 [==============================] - 0s 5ms/step - loss: nan\n",
      "Epoch 14/100\n",
      "31/31 [==============================] - 0s 3ms/step - loss: nan\n",
      "Epoch 15/100\n",
      "31/31 [==============================] - 0s 3ms/step - loss: nan\n",
      "Epoch 16/100\n",
      "31/31 [==============================] - 0s 4ms/step - loss: nan\n",
      "Epoch 17/100\n",
      "31/31 [==============================] - 0s 5ms/step - loss: nan\n",
      "Epoch 18/100\n",
      "31/31 [==============================] - 0s 6ms/step - loss: nan\n",
      "Epoch 19/100\n",
      "31/31 [==============================] - 1s 6ms/step - loss: nan\n",
      "Epoch 20/100\n",
      "31/31 [==============================] - 0s 4ms/step - loss: nan\n",
      "Epoch 21/100\n",
      "31/31 [==============================] - 0s 5ms/step - loss: nan\n",
      "Epoch 22/100\n",
      "31/31 [==============================] - 0s 4ms/step - loss: nan\n",
      "Epoch 23/100\n",
      "31/31 [==============================] - 0s 4ms/step - loss: nan\n",
      "Epoch 24/100\n",
      "31/31 [==============================] - 0s 4ms/step - loss: nan\n",
      "Epoch 25/100\n",
      "31/31 [==============================] - 0s 4ms/step - loss: nan\n",
      "Epoch 26/100\n",
      "31/31 [==============================] - 0s 4ms/step - loss: nan\n",
      "Epoch 27/100\n",
      "31/31 [==============================] - 0s 4ms/step - loss: nan\n",
      "Epoch 28/100\n",
      "31/31 [==============================] - 0s 5ms/step - loss: nan\n",
      "Epoch 29/100\n",
      "31/31 [==============================] - 0s 4ms/step - loss: nan\n",
      "Epoch 30/100\n",
      "31/31 [==============================] - 0s 4ms/step - loss: nan\n",
      "Epoch 31/100\n",
      "31/31 [==============================] - 0s 4ms/step - loss: nan\n",
      "Epoch 32/100\n",
      "31/31 [==============================] - 0s 4ms/step - loss: nan\n",
      "Epoch 33/100\n",
      "31/31 [==============================] - 0s 4ms/step - loss: nan\n",
      "Epoch 34/100\n",
      "31/31 [==============================] - 0s 3ms/step - loss: nan\n",
      "Epoch 35/100\n",
      "31/31 [==============================] - 0s 4ms/step - loss: nan\n",
      "Epoch 36/100\n",
      "31/31 [==============================] - 0s 4ms/step - loss: nan\n",
      "Epoch 37/100\n",
      "31/31 [==============================] - 0s 4ms/step - loss: nan\n",
      "Epoch 38/100\n",
      "31/31 [==============================] - 0s 4ms/step - loss: nan\n",
      "Epoch 39/100\n",
      "31/31 [==============================] - 0s 4ms/step - loss: nan\n",
      "Epoch 40/100\n",
      "31/31 [==============================] - 0s 4ms/step - loss: nan\n",
      "Epoch 41/100\n",
      "31/31 [==============================] - 0s 3ms/step - loss: nan\n",
      "Epoch 42/100\n",
      "31/31 [==============================] - 0s 4ms/step - loss: nan\n",
      "Epoch 43/100\n",
      "31/31 [==============================] - 0s 4ms/step - loss: nan\n",
      "Epoch 44/100\n",
      "31/31 [==============================] - 0s 3ms/step - loss: nan\n",
      "Epoch 45/100\n",
      "31/31 [==============================] - 0s 4ms/step - loss: nan\n",
      "Epoch 46/100\n",
      "31/31 [==============================] - 0s 4ms/step - loss: nan\n",
      "Epoch 47/100\n",
      "31/31 [==============================] - 0s 4ms/step - loss: nan\n",
      "Epoch 48/100\n",
      "31/31 [==============================] - 0s 4ms/step - loss: nan\n",
      "Epoch 49/100\n",
      "31/31 [==============================] - 0s 4ms/step - loss: nan\n",
      "Epoch 50/100\n",
      "31/31 [==============================] - 0s 4ms/step - loss: nan\n",
      "Epoch 51/100\n",
      "31/31 [==============================] - 0s 5ms/step - loss: nan\n",
      "Epoch 52/100\n",
      "31/31 [==============================] - 0s 4ms/step - loss: nan\n",
      "Epoch 53/100\n",
      "31/31 [==============================] - 0s 4ms/step - loss: nan\n",
      "Epoch 54/100\n",
      "31/31 [==============================] - 0s 4ms/step - loss: nan\n",
      "Epoch 55/100\n",
      "31/31 [==============================] - 0s 4ms/step - loss: nan\n",
      "Epoch 56/100\n",
      "31/31 [==============================] - 0s 3ms/step - loss: nan\n",
      "Epoch 57/100\n",
      "31/31 [==============================] - 0s 4ms/step - loss: nan\n",
      "Epoch 58/100\n",
      "31/31 [==============================] - 0s 4ms/step - loss: nan\n",
      "Epoch 59/100\n",
      "31/31 [==============================] - 0s 4ms/step - loss: nan\n",
      "Epoch 60/100\n",
      "31/31 [==============================] - 0s 4ms/step - loss: nan\n",
      "Epoch 61/100\n",
      "31/31 [==============================] - 0s 4ms/step - loss: nan\n",
      "Epoch 62/100\n",
      "31/31 [==============================] - 0s 4ms/step - loss: nan\n",
      "Epoch 63/100\n",
      "31/31 [==============================] - 0s 4ms/step - loss: nan\n",
      "Epoch 64/100\n",
      "31/31 [==============================] - 0s 4ms/step - loss: nan\n",
      "Epoch 65/100\n",
      "31/31 [==============================] - 0s 4ms/step - loss: nan\n",
      "Epoch 66/100\n",
      "31/31 [==============================] - 0s 4ms/step - loss: nan\n",
      "Epoch 67/100\n",
      "31/31 [==============================] - 0s 4ms/step - loss: nan\n",
      "Epoch 68/100\n",
      "31/31 [==============================] - 0s 4ms/step - loss: nan\n",
      "Epoch 69/100\n",
      "31/31 [==============================] - 0s 4ms/step - loss: nan\n",
      "Epoch 70/100\n",
      "31/31 [==============================] - 0s 3ms/step - loss: nan\n",
      "Epoch 71/100\n",
      "31/31 [==============================] - 0s 4ms/step - loss: nan\n",
      "Epoch 72/100\n",
      "31/31 [==============================] - 0s 4ms/step - loss: nan\n",
      "Epoch 73/100\n",
      "31/31 [==============================] - 0s 4ms/step - loss: nan\n",
      "Epoch 74/100\n",
      "31/31 [==============================] - 0s 4ms/step - loss: nan\n",
      "Epoch 75/100\n",
      "31/31 [==============================] - 0s 4ms/step - loss: nan\n",
      "Epoch 76/100\n",
      "31/31 [==============================] - 0s 4ms/step - loss: nan\n",
      "Epoch 77/100\n",
      "31/31 [==============================] - 0s 4ms/step - loss: nan\n",
      "Epoch 78/100\n",
      "31/31 [==============================] - 0s 4ms/step - loss: nan\n",
      "Epoch 79/100\n",
      "31/31 [==============================] - 0s 4ms/step - loss: nan\n",
      "Epoch 80/100\n",
      "31/31 [==============================] - 0s 4ms/step - loss: nan\n",
      "Epoch 81/100\n",
      "31/31 [==============================] - 0s 4ms/step - loss: nan\n",
      "Epoch 82/100\n",
      "31/31 [==============================] - 0s 3ms/step - loss: nan\n",
      "Epoch 83/100\n",
      "31/31 [==============================] - 0s 4ms/step - loss: nan\n",
      "Epoch 84/100\n",
      "31/31 [==============================] - 0s 5ms/step - loss: nan\n",
      "Epoch 85/100\n",
      "31/31 [==============================] - 0s 4ms/step - loss: nan\n",
      "Epoch 86/100\n",
      "31/31 [==============================] - 0s 3ms/step - loss: nan\n",
      "Epoch 87/100\n",
      "31/31 [==============================] - 0s 4ms/step - loss: nan\n",
      "Epoch 88/100\n",
      "31/31 [==============================] - 0s 4ms/step - loss: nan\n",
      "Epoch 89/100\n",
      "31/31 [==============================] - 0s 4ms/step - loss: nan\n",
      "Epoch 90/100\n",
      "31/31 [==============================] - 0s 6ms/step - loss: nan\n",
      "Epoch 91/100\n",
      "31/31 [==============================] - 0s 4ms/step - loss: nan\n",
      "Epoch 92/100\n",
      "31/31 [==============================] - 0s 4ms/step - loss: nan\n",
      "Epoch 93/100\n",
      "31/31 [==============================] - 0s 4ms/step - loss: nan\n",
      "Epoch 94/100\n",
      "31/31 [==============================] - 0s 4ms/step - loss: nan\n",
      "Epoch 95/100\n",
      "31/31 [==============================] - 0s 4ms/step - loss: nan\n",
      "Epoch 96/100\n",
      "31/31 [==============================] - 0s 3ms/step - loss: nan\n",
      "Epoch 97/100\n",
      "31/31 [==============================] - 0s 4ms/step - loss: nan\n",
      "Epoch 98/100\n",
      "31/31 [==============================] - 0s 4ms/step - loss: nan\n",
      "Epoch 99/100\n",
      "31/31 [==============================] - 0s 4ms/step - loss: nan\n",
      "Epoch 100/100\n",
      "31/31 [==============================] - 0s 4ms/step - loss: nan\n"
     ]
    }
   ],
   "source": [
    "dataset = windowed_dataset(x_train, window_size, batch_size, shuffle_buffer_size)\n",
    "\n",
    "model = tf.keras.models.Sequential([\n",
    "    tf.keras.layers.Conv1D(filters=128, kernel_size=3,\n",
    "                           strides=1, padding=\"causal\",\n",
    "                           activation=\"relu\",\n",
    "                           input_shape=[None, 1]),\n",
    "    tf.keras.layers.Dense(28, activation=\"relu\"),\n",
    "    tf.keras.layers.Dense(10, activation=\"relu\"),\n",
    "    tf.keras.layers.Dense(1),\n",
    "])\n",
    "\n",
    "optimizer = tf.keras.optimizers.SGD(lr=1e-5, momentum=0.5)\n",
    "model.compile(loss=\"mse\", optimizer=optimizer)\n",
    "history = model.fit(dataset, epochs=100, verbose=1)\n"
   ]
  },
  {
   "cell_type": "code",
   "execution_count": 19,
   "metadata": {},
   "outputs": [],
   "source": [
    "def model_forecast(model, series, window_size):\n",
    "    ds = tf.data.Dataset.from_tensor_slices(series)\n",
    "    ds = ds.window(window_size, shift=1, drop_remainder=True)\n",
    "    ds = ds.flat_map(lambda w: w.batch(window_size))\n",
    "    ds = ds.batch(32).prefetch(1)\n",
    "    forecast = model.predict(ds)\n",
    "    return forecast"
   ]
  },
  {
   "cell_type": "code",
   "execution_count": 20,
   "metadata": {},
   "outputs": [
    {
     "name": "stdout",
     "output_type": "stream",
     "text": [
      "46/46 [==============================] - 1s 6ms/step\n"
     ]
    }
   ],
   "source": [
    "forecast = model_forecast(model, series[..., np.newaxis], window_size)"
   ]
  },
  {
   "cell_type": "code",
   "execution_count": 21,
   "metadata": {},
   "outputs": [],
   "source": [
    "results = forecast[split_time - window_size:-1, -1, 0]"
   ]
  },
  {
   "cell_type": "code",
   "execution_count": null,
   "metadata": {},
   "outputs": [],
   "source": []
  }
 ],
 "metadata": {
  "kernelspec": {
   "display_name": "Python 3",
   "language": "python",
   "name": "python3"
  },
  "language_info": {
   "codemirror_mode": {
    "name": "ipython",
    "version": 3
   },
   "file_extension": ".py",
   "mimetype": "text/x-python",
   "name": "python",
   "nbconvert_exporter": "python",
   "pygments_lexer": "ipython3",
   "version": "3.9.4"
  },
  "orig_nbformat": 4,
  "vscode": {
   "interpreter": {
    "hash": "37789724b42d7ac8088bf5d5039d158497746afaa2ceeb3d4bc256999e41f00b"
   }
  }
 },
 "nbformat": 4,
 "nbformat_minor": 2
}
